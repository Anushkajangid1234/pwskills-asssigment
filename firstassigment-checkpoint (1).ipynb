{
 "cells": [
  {
   "cell_type": "markdown",
   "id": "4edd4a22",
   "metadata": {},
   "source": [
    "Ans 1."
   ]
  },
  {
   "cell_type": "code",
   "execution_count": 40,
   "id": "5cc06be5",
   "metadata": {},
   "outputs": [
    {
     "name": "stdout",
     "output_type": "stream",
     "text": [
      "Reverse string: <function reverse_string at 0x0000027DD9F46AC0>\n"
     ]
    }
   ],
   "source": [
    "def reverse_string(s):\n",
    "    return s[::-1]\n",
    "#example usage\n",
    "input_string = \"Hello, World!\"\n",
    "reversed_string = reverse_string(input_string)\n",
    "print(\"Reverse string:\", reverse_string)\n"
   ]
  },
  {
   "cell_type": "markdown",
   "id": "10ada6da",
   "metadata": {},
   "source": [
    "Explanation:\n",
    "\n",
    ". s[::-1] is a slicing technique in python that reads the string from end to start, effectively reversing it.\n"
   ]
  },
  {
   "cell_type": "markdown",
   "id": "510a8d53",
   "metadata": {},
   "source": [
    "Ans 2."
   ]
  },
  {
   "cell_type": "code",
   "execution_count": 41,
   "id": "9446906f",
   "metadata": {},
   "outputs": [],
   "source": [
    "def count_vowels(s):\n",
    "    vowels =\"aeiouAEIOU\"#list of vowel characters (both lowercase and upercase)\n",
    "    count =0\n",
    "    for char in s:\n",
    "        if char in vowels:\n",
    "            count +=1\n",
    "            return count\n",
    "        #Example usage\n",
    "        input_string = \"Hello,World!\"\n",
    "        vowel_count = count_vowels(input_string)\n",
    "        print(\"Number of vowels:\", vowel_count)"
   ]
  },
  {
   "cell_type": "markdown",
   "id": "46d60852",
   "metadata": {},
   "source": [
    "Explanation:\n",
    "\n",
    ". The string vowels contains all the vowel characters(both uppercase and lowercase).\n",
    "\n",
    ". We loop through each character in the input string s, and if the character is in vowel string, we increment the count.\n",
    "\n",
    "This will give you the total number of vowel in the string."
   ]
  },
  {
   "cell_type": "markdown",
   "id": "f1e0e383",
   "metadata": {},
   "source": [
    "Ans 3."
   ]
  },
  {
   "cell_type": "code",
   "execution_count": 42,
   "id": "f09a0bfa",
   "metadata": {},
   "outputs": [
    {
     "name": "stdout",
     "output_type": "stream",
     "text": [
      "The string is a palindrome.\n"
     ]
    }
   ],
   "source": [
    "def is_palindrom(s) :\n",
    "    # Remove space and convert the string to lowercase for uniform comparison\n",
    "    s = s.replace (\" \",\"\").lower()\n",
    "    #check if the string is equal to its revese \n",
    "    return s == s[::-1]\n",
    "#Example usage \n",
    "input_string = \"A man a plan a canal panama\"\n",
    "if is_palindrom(input_string):\n",
    "    print(\"The string is a palindrome.\")\n",
    "else:\n",
    "    print(\"The string is not a palindrome.\")"
   ]
  },
  {
   "cell_type": "markdown",
   "id": "0ebac087",
   "metadata": {},
   "source": [
    "Explanation:\n",
    "\n",
    "1. We first remove spaces using replace(\"\",\"\") and convert the string to lowercase with lower() to make the check case-insensitive and ignore space.\n",
    "\n",
    "2. We then compare the string s to its revesed version using slicing s[::-1]\n",
    "\n",
    "3. If both are equal, the string is a palindromel; otherwise,it is not.\n",
    "\n",
    "Example:\n",
    "\n",
    ". \" A man a plan a canal Panama\" will return True as a palindrome.\n"
   ]
  },
  {
   "cell_type": "markdown",
   "id": "302c058a",
   "metadata": {},
   "source": [
    "Ans 4."
   ]
  },
  {
   "cell_type": "code",
   "execution_count": 43,
   "id": "51b211d0",
   "metadata": {},
   "outputs": [
    {
     "name": "stdout",
     "output_type": "stream",
     "text": [
      "The string are anagrams.\n"
     ]
    }
   ],
   "source": [
    "def are_anagrams(str1, str2):\n",
    "    # Remove spaces and convert both strings to lowercase\n",
    "    str1 = str1.replace(\"\",\"\").lower()\n",
    "    str2 = str2.replace(\"\",\"\").lower()\n",
    "    #check if the sorted version of both strings are the same \n",
    "    return sorted(str1) == sorted(str2)\n",
    "#Example usage\n",
    "string1 = \"listen\"\n",
    "string2 = \"silent\"\n",
    "if are_anagrams(string1, string2):\n",
    "   print(\"The string are anagrams.\")\n",
    "else:\n",
    "    print(\"The string are not anagrams.\")"
   ]
  },
  {
   "cell_type": "markdown",
   "id": "8cadd877",
   "metadata": {},
   "source": [
    "Explation:\n",
    "\n",
    "1. Normalize the Strings : We remove spaces and convert both strings to lowercase using replace(\"\",\"\") and lower() to ensure the check is case-insensitive and ignore spaces.\n",
    "\n",
    "2. Sort and comapre : We sort both strings using sorted().if sorted version of the two strings are the same, the strings are anagrams; otherwise, they are not.\n",
    "\n",
    "Example:\n",
    "\n",
    ". \"Listen\" and \"Slient\" are anagrams because both, when sorted, result in \"eilnts\"."
   ]
  },
  {
   "cell_type": "markdown",
   "id": "0761308a",
   "metadata": {},
   "source": [
    "Ans 5."
   ]
  },
  {
   "cell_type": "code",
   "execution_count": 44,
   "id": "33083f02",
   "metadata": {},
   "outputs": [],
   "source": [
    "def find_all_occurrences(main_str, sub_str):\n",
    "    #initialze an empty list to store the starting indices of all occurrences\n",
    "    indices = []\n",
    "    start = 0\n",
    "    #loop to find all occurrences of the substring\n",
    "    while True:\n",
    "        #find the next occurrences of sub_str starting from the current 'start' index\n",
    "        start = main_str.find(sub_str, start)\n",
    "        #If no more occurrences are found, break the loop\n",
    "        if start == -1:\n",
    "            break\n",
    "        #Append the index of occurrence to the list\n",
    "        indices.append(start)\n",
    "        #Move the start position to one index after the current occurrence\n",
    "        start += 1\n",
    "        return indices\n",
    "    #Example usage\n",
    "    main_string= \"This is a test string, and this is another test string.\"\n",
    "    sunstring = \"is\"\n",
    "    occurrences = find_all_occurrences(main_string, substring)\n",
    "    \n",
    "    print(f\"The substring '{substring}' occurs at indices: {occurrences}\")\n",
    "    "
   ]
  },
  {
   "cell_type": "markdown",
   "id": "3905b44e",
   "metadata": {},
   "source": [
    "Explanation:\n",
    "\n",
    "1. find(): We use the find() method, which return the lowest index of the substring (sub_str)found in the string (main_str) staarting from a given position. if the substring is not found, it returns -1.\n",
    "\n",
    "2. iterate over all occurrence : the loop countinue until find() return -1, indicating no further occurrence of the substring. \n",
    "\n",
    "3. Storing indices: Each occurrence's starting index is appended to the indices list.\n",
    "\n",
    "Example output:\n",
    "\n",
    "For the input string \" This is a test string, and this is another test string.\" and substring \"is\", the output would be:\n",
    "\n",
    "The substring \"is\" occurs at indices : [2 ,5, 23, 32]\n"
   ]
  },
  {
   "cell_type": "markdown",
   "id": "1c39e92c",
   "metadata": {},
   "source": [
    "Ans 6."
   ]
  },
  {
   "cell_type": "code",
   "execution_count": 45,
   "id": "4ff87642",
   "metadata": {},
   "outputs": [],
   "source": [
    "def compress_string(s: str) -> str:\n",
    "    if not s: # If thr string is empty, reurn it as is\n",
    "        return s\n",
    "    #Initalize an empty list to store the compressed parts\n",
    "    compressed =[]\n",
    "    #Initialize variable to track the current character and its count\n",
    "    count = 1\n",
    "    for i in range(1, len(s)):\n",
    "        #If the current character is the same as the previous one, increment the count\n",
    "        if s[i] == s[i - 1]:\n",
    "            count += 1\n",
    "        else:\n",
    "            #Append the character and its count to the compressed list\n",
    "            compressed.append(s[i - 1] + str(count))\n",
    "            #Join the list into a single string\n",
    "            compressed_str = ''. join(compressed)\n",
    "            #If the compressed string is not shorter than the original, return the original\n",
    "            return compressed_str if len(compressed_str)< len(S) else s\n",
    "        #Example usage\n",
    "        input_str = \"aaabbbccdaa\"\n",
    "        compressed_str = compress_string(input_str)\n",
    "        print(f\"original : {input_str}\")\n",
    "        print(f\"compressed: {compressed_str}\")"
   ]
  },
  {
   "cell_type": "markdown",
   "id": "d1eff25c",
   "metadata": {},
   "source": [
    "Explanation:\n",
    "\n",
    "1. Input : The function takes a string s.\n",
    "2. Loop through the string: It loops through the string,counting consecutive occurrences of each character.\n",
    "3. Compression : Each character,followed by its count,is added to a list.\n",
    "4. Output : After the loop, the list is joined into a compressed string.\n",
    "5. Edge case handling : If the compressed string is longer than the original, the function return the original string insted.\n",
    "\n",
    "Example:\n",
    "For the input string \"aaabbbccdaa\", the output will be.\n"
   ]
  },
  {
   "cell_type": "markdown",
   "id": "35178fae",
   "metadata": {},
   "source": [
    "original : aaabbbbccdaa\n",
    "compressed : a3b4c2d1a2\n",
    "\n",
    "if the compression doesn't make the string shorter, the function will return the original string."
   ]
  },
  {
   "cell_type": "markdown",
   "id": "9ff2ece2",
   "metadata": {},
   "source": [
    "Ans 8."
   ]
  },
  {
   "cell_type": "code",
   "execution_count": 46,
   "id": "9c832a53",
   "metadata": {},
   "outputs": [],
   "source": [
    "def check_string_case(s: str) -> str:\n",
    "    if s. isupper() :\n",
    "        return \"Uppercase\"\n",
    "    elif s.islower() :\n",
    "        return \"Lowercase\"\n",
    "    else:\n",
    "        return \"Mixed case\"\n",
    "    #Example usage\n",
    "    input_str = \"Hello\"\n",
    "    result = check_string_case(input_str)\n",
    "    print(f\"The string is: {result}\")"
   ]
  },
  {
   "cell_type": "markdown",
   "id": "66af2640",
   "metadata": {},
   "source": [
    "Explanation:\n",
    " \n",
    " . isupper() : This methord checks if all character in the string are uppercase.\n",
    " . islower() : This method check if all character in the string are lowercase.\n",
    " . if nether of these methord return True, it means the string contains a mix of both upperrcase characher.\n",
    "\n",
    " Example:\n",
    "\n",
    " For the input \"hello\" , the output will be:\n",
    "\n",
    " The string is : Uppercase\n"
   ]
  },
  {
   "cell_type": "markdown",
   "id": "3318da64",
   "metadata": {},
   "source": [
    "Ans 9.\n",
    "\n",
    "To count the number of words in a string, you can split into words using Python's built-in string methods,then count the resulting list's length."
   ]
  },
  {
   "cell_type": "code",
   "execution_count": 47,
   "id": "deb6200a",
   "metadata": {},
   "outputs": [
    {
     "name": "stdout",
     "output_type": "stream",
     "text": [
      "number of words : 5\n"
     ]
    }
   ],
   "source": [
    "def count_words(s : str) -> int:\n",
    "    #split the string by whitespace and filter out empty strings\n",
    "    words = s.split()\n",
    "    return len(words)\n",
    "#Example usage\n",
    "\n",
    "input_string = \"This is a sample sentence.\"\n",
    "word_count = count_words(input_string)\n",
    "print(f\"number of words : {word_count}\")\n"
   ]
  },
  {
   "cell_type": "markdown",
   "id": "b8da678e",
   "metadata": {},
   "source": [
    "Explanation:\n",
    "\n",
    "1. split() : The split() method by default splits a string by any whitespace (space,tabs,newlines,etc.). \n",
    "2. len() : The length of the resulting list gives the count of words in the string.\n",
    "\n",
    "Example:\n",
    "\n",
    "For the input string \" this is a sample sentence.\", the output will be.\n",
    "\n",
    "Number of words : 5"
   ]
  },
  {
   "cell_type": "markdown",
   "id": "eb9ffbc8",
   "metadata": {},
   "source": [
    "Ans 10.\n",
    "\n",
    "To concatenate two strings without using the + operator, you can use serveral different methord in python."
   ]
  },
  {
   "cell_type": "code",
   "execution_count": 48,
   "id": "fca5f416",
   "metadata": {},
   "outputs": [
    {
     "name": "stdout",
     "output_type": "stream",
     "text": [
      "HelloWorld\n"
     ]
    }
   ],
   "source": [
    "#Example strings\n",
    "str1 = \"Hello\"\n",
    "str2 = \"World\"\n",
    "\n",
    "#Concatenating using join() method\n",
    "result = '' .join ([str1,str2])\n",
    "\n",
    "#Output the result\n",
    "print(result)"
   ]
  },
  {
   "cell_type": "markdown",
   "id": "13ce91dc",
   "metadata": {},
   "source": [
    "Explanation:\n",
    "\n",
    ". The join() method concatenates the element of an iterable(like a list or tuple) into a single string, with the string that called the method as the separator.In this case, we're passing an empty string ' ' to join str1 and str2 together with no separator.\n"
   ]
  },
  {
   "cell_type": "markdown",
   "id": "3c5baeb0",
   "metadata": {},
   "source": [
    "Ans 11."
   ]
  },
  {
   "cell_type": "code",
   "execution_count": 49,
   "id": "c7aa7b22",
   "metadata": {},
   "outputs": [
    {
     "name": "stdout",
     "output_type": "stream",
     "text": [
      "[1, 3, 4, 5, 6]\n"
     ]
    }
   ],
   "source": [
    "#Sample list\n",
    "my_list = [1, 2, 3, 4, 2, 5, 2, 6]\n",
    "\n",
    "#Element to remove\n",
    "element_to_remove = 2\n",
    "\n",
    "#Remove all occurenence using list comprehension\n",
    "my_list = [item for item in my_list if item != element_to_remove]\n",
    "\n",
    "#output the update list\n",
    "print(my_list)"
   ]
  },
  {
   "cell_type": "markdown",
   "id": "d00e15d8",
   "metadata": {},
   "source": [
    "Explanation:\n",
    "\n",
    ". The list comprehension iterate over each item in the original list and keeps only those items that are not equal to the element you want to remove (element_to_remove).\n",
    "\n",
    ". This create a new list without the unwanted element and assigns it back to my_list ."
   ]
  },
  {
   "cell_type": "markdown",
   "id": "aaa19c98",
   "metadata": {},
   "source": [
    "Ans 12."
   ]
  },
  {
   "cell_type": "code",
   "execution_count": 50,
   "id": "88f4a87f",
   "metadata": {},
   "outputs": [
    {
     "name": "stdout",
     "output_type": "stream",
     "text": [
      "second largest number is: 45\n"
     ]
    }
   ],
   "source": [
    "#Sample list\n",
    "my_list = [10, 20, 30, 4, 45, 99, 99]\n",
    "\n",
    "#Initialize two vaiable to track the largest and second largest numbers\n",
    "largest = second_largest = float('-inf')\n",
    "\n",
    "#Traverse the list once\n",
    "for num in my_list:\n",
    "    if num > largest:\n",
    "        second_largest = largest #update second largest\n",
    "        largest = num #update largest\n",
    "    elif num > second_largest and num != largest:\n",
    "        second_largest = num # Update second largest if it's smaller than largest but bigger than current second largest \n",
    "\n",
    "#check if the second largest exists\n",
    "if second_largest == float('-inf'):\n",
    "    print(\"No second largest number found.\")\n",
    "else:\n",
    "    print(\"second largest number is:\", second_largest)    \n",
    "\n"
   ]
  },
  {
   "cell_type": "markdown",
   "id": "74858acf",
   "metadata": {},
   "source": [
    "Explation:\n",
    "\n",
    "1. we initialize two variables, largest and second_largest, to -inf (negative infinity), ensuring that any number in the list will be larger than these initial values.\n",
    "2. We then itrate through the list:\n",
    " . If a number is larger than current largest, we update second_largest to the old largest and update largest to the new number.\n",
    " . If a number is smaller than largest but larger than second_largest, we update second_largest.\n"
   ]
  },
  {
   "cell_type": "markdown",
   "id": "142aade4",
   "metadata": {},
   "source": [
    "Ans 13.\n",
    "\n",
    "Using collections . counter (built-in solution):"
   ]
  },
  {
   "cell_type": "code",
   "execution_count": 51,
   "id": "975beec5",
   "metadata": {},
   "outputs": [
    {
     "name": "stdout",
     "output_type": "stream",
     "text": [
      "{1: 2, 2: 3, 3: 3, 4: 1, 5: 1}\n"
     ]
    }
   ],
   "source": [
    "from collections import Counter\n",
    "\n",
    "#Sample list\n",
    "my_list = [1, 2, 3, 2, 4, 5, 2, 3, 3, 1]\n",
    "\n",
    "# use counter to count occurrences\n",
    "occurrences = Counter(my_list)\n",
    "\n",
    "#output the result\n",
    "print(dict(occurrences))"
   ]
  },
  {
   "cell_type": "markdown",
   "id": "4173acad",
   "metadata": {},
   "source": [
    "Explanation:\n",
    "\n",
    ". Counter automatically counts the occurrences  of each element in list and return a dictionary-like object where the keys are the element and the valuea are their respective counts.\n",
    ". in this example,2 appers 3 times, 3 also appears 3 times, and 1 appers 2 times, etc.\n",
    "\n",
    "Custom impletation (without using  counter):\n"
   ]
  },
  {
   "cell_type": "code",
   "execution_count": 52,
   "id": "2dc9d624",
   "metadata": {},
   "outputs": [
    {
     "name": "stdout",
     "output_type": "stream",
     "text": [
      "{1: 1}\n",
      "{1: 1, 2: 1}\n",
      "{1: 1, 2: 1, 3: 1}\n",
      "{1: 1, 2: 2, 3: 1}\n",
      "{1: 1, 2: 2, 3: 1, 4: 1}\n",
      "{1: 1, 2: 2, 3: 1, 4: 1, 5: 1}\n",
      "{1: 1, 2: 3, 3: 1, 4: 1, 5: 1}\n",
      "{1: 1, 2: 3, 3: 2, 4: 1, 5: 1}\n",
      "{1: 1, 2: 3, 3: 3, 4: 1, 5: 1}\n",
      "{1: 2, 2: 3, 3: 3, 4: 1, 5: 1}\n"
     ]
    }
   ],
   "source": [
    "# Sample list\n",
    "my_list = [1, 2, 3, 2, 4, 5, 2, 3, 3, 1]\n",
    " \n",
    " #initialize an empty dictionary to store counts\n",
    "occurrences ={}\n",
    "\n",
    "# Loop through the list and count each element\n",
    "for element in my_list:\n",
    "    if element in occurrences:\n",
    "        occurrences[element] +=1\n",
    "    else:\n",
    "        occurrences[element] = 1\n",
    "    # output the result\n",
    "    print(occurrences)"
   ]
  },
  {
   "cell_type": "markdown",
   "id": "d4ecabaf",
   "metadata": {},
   "source": [
    "Explanation:\n",
    "\n",
    ". we iterate through the list and use a dicitionary to keep track of how many times each element has appeared.\n",
    ". If an element is already in the dicitonary, we increment its count. if it's not,we add it to the dicitonary with an intial count of 1."
   ]
  },
  {
   "cell_type": "markdown",
   "id": "17819487",
   "metadata": {},
   "source": [
    "Ans 14.\n",
    "\n",
    "To reverse a list in-place without using any built-in function, you can use a two-pointer approch. "
   ]
  },
  {
   "cell_type": "code",
   "execution_count": 53,
   "id": "7c19ed79",
   "metadata": {},
   "outputs": [
    {
     "name": "stdout",
     "output_type": "stream",
     "text": [
      "Reversed list: [5, 4, 3, 2, 1]\n"
     ]
    }
   ],
   "source": [
    "def reverse_list(arr):\n",
    "    # Initilize two pointers\n",
    "    left = 0\n",
    "    right = len(arr) - 1\n",
    "\n",
    "    # Swap element from the ends toward the center \n",
    "    while left <right :\n",
    "        # Swap the element at left and right pointers\n",
    "        arr[left], arr[right] = arr[right], arr[left]\n",
    "        # Move pointers twoards each other\n",
    "        left +=1\n",
    "        right -= 1\n",
    "\n",
    "#example usage\n",
    "arr = [1, 2, 3, 4, 5]\n",
    "reverse_list(arr)\n",
    "print(\"Reversed list:\", arr)"
   ]
  },
  {
   "cell_type": "markdown",
   "id": "51d9bde4",
   "metadata": {},
   "source": [
    "Explanation:\n",
    "\n",
    ". The left pointer starts at the beginning of the list and the right pointer at the end.\n",
    "\n",
    ". We swap the element at left and right, then move left one step forward and right one step backward.\n",
    "\n",
    ". This continues until the pointers meet in the middle of the list."
   ]
  },
  {
   "cell_type": "markdown",
   "id": "64d6f3d8",
   "metadata": {},
   "source": [
    "Ans 15.\n",
    "\n",
    "To remove duplicate from a list while preversing rhe original order od element, you can use a set to track seen element. Here's a python code that does this:"
   ]
  },
  {
   "cell_type": "code",
   "execution_count": 54,
   "id": "d81bb916",
   "metadata": {},
   "outputs": [],
   "source": [
    "def remove_duplicates(arr):\n",
    "    seen = set()\n",
    "    resutl = []\n",
    "\n",
    "    for item in arr:\n",
    "        # Only add the item if hasn't been seen before\n",
    "        if item not in seen:\n",
    "            result.append(item)\n",
    "            seen.add(item)\n",
    "\n",
    "            return result\n",
    "        \n",
    "        # example usage\n",
    "        arr = [1, 2, 3, 2, 4, 1, 5]\n",
    "        unique_arr = remove_duplicates(arr)\n",
    "        print(\"list after removing duplicate:\", unique_arr)"
   ]
  },
  {
   "cell_type": "markdown",
   "id": "b536dbe5",
   "metadata": {},
   "source": [
    "Explanation:\n",
    "\n",
    ". The seen set keeps track of elements that have already been added to the result list.\n",
    "\n",
    ". As you iterate over arr, you check if an element is in seen.\n",
    "\n",
    "    . if not, it's to result and marked as seen.\n",
    "    . if it has already been seen, it's skipped."
   ]
  },
  {
   "cell_type": "markdown",
   "id": "793b1209",
   "metadata": {},
   "source": [
    "Ans 16.\n",
    "\n",
    "To check if a given list is sorted in either ascending or descending order, you can use a simple loop to verfiy if each element is less than or equal to (for ascending) or greater than or equal to(for descending) the next element. "
   ]
  },
  {
   "cell_type": "code",
   "execution_count": 55,
   "id": "1c550ff6",
   "metadata": {},
   "outputs": [
    {
     "name": "stdout",
     "output_type": "stream",
     "text": [
      "arr1 is sorted: True\n",
      "arr2 is sorted: True\n",
      "arr3 is_sorted: False\n"
     ]
    }
   ],
   "source": [
    "def is_sorted(arr):\n",
    "    # Check if the list is sorted in ascending order\n",
    "    ascending = all(arr[i] <= arr[ i + 1] for i in range (len(arr) - 1))\n",
    "\n",
    "    # Check if the list is sorted in descending order\n",
    "    descending = all(arr[i] >= arr[ i + 1] for i in range(len(arr) - 1))\n",
    "\n",
    "    # This list is sorted if it's either ascending or descending\n",
    "    return ascending or descending\n",
    "\n",
    "# Exapmle usage\n",
    "\n",
    "arr1 = [1, 2, 3, 4, 5]\n",
    "arr2 = [5, 4, 3, 2, 1]\n",
    "arr3 = [1, 3, 2, 4, 5]\n",
    "\n",
    "print(\"arr1 is sorted:\", is_sorted(arr1)) # True (ascending)\n",
    "print(\"arr2 is sorted:\", is_sorted(arr2)) # True (descending)\n",
    "print(\"arr3 is_sorted:\", is_sorted(arr3)) # False (not sorted) "
   ]
  },
  {
   "cell_type": "markdown",
   "id": "a8a33b47",
   "metadata": {},
   "source": [
    "Explanation:\n",
    "\n",
    ". The function uses Python's all() with list comprehension to check two conditions:\n",
    "\n",
    "  . Ascending order: Each element should be less than or equal to the next.\n",
    "  . Descendoing order: Each element should be greater than or equal to the next.\n",
    "\n",
    "  . if either condition is True, the function reture True, indicating that the list is sorted.\n",
    "  . is both conditions are false, it returns False, indicating that the list is not soeted."
   ]
  },
  {
   "cell_type": "markdown",
   "id": "4ddd5a37",
   "metadata": {},
   "source": [
    "Ans 17.\n",
    "\n",
    "To merge two sorted lists into a single list, you can use a two-pointer technique."
   ]
  },
  {
   "cell_type": "code",
   "execution_count": 56,
   "id": "2c74d974",
   "metadata": {},
   "outputs": [],
   "source": [
    "def merge_sorted_list(list1, list2):\n",
    "    # Initilize poniter for both lists and an empty list for the result\n",
    "    i, j = 0, 0\n",
    "    merged_list = []\n",
    "\n",
    "    # Merge elements from both lists while both pointers are in bounds\n",
    "    while i < len(list1) and j < len(list2):\n",
    "        if list1[i] < list2[j]:\n",
    "            merged_list.append(list1[1])\n",
    "            i += 1\n",
    "        else:\n",
    "            merged_list.append(list2[j])\n",
    "            i += 1\n",
    "    else:\n",
    "        merged_list.append(list2[j])\n",
    "        j += 1\n",
    "        merged_list.append(list2[j])\n",
    "        j += 1\n",
    "\n",
    "        # Append any remaning element from list2\n",
    "        while j < len(list2):\n",
    "            merged_list.append(list2[j])\n",
    "            j += 1\n",
    "            \n",
    "            return merged_list\n",
    "        \n",
    "        # Example usage\n",
    "        list1 = [1, 3, 5, 7]\n",
    "        list2 = [2, 4, 6, 8]\n",
    "        merged_list = merge_sorted_list(list1, list2)\n",
    "        print(\"Merged sorted list:\", merged_list)\n"
   ]
  },
  {
   "cell_type": "markdown",
   "id": "44544692",
   "metadata": {},
   "source": [
    "Explanation:\n",
    "\n",
    ". The code uses two pointers, i for list1 and j for list2.\n",
    ". If compares elements at i and j and appends the smaller element to merged_list, moving the respective pointer.\n",
    ". After the loop, if there are any remaining elements in either list, they're added to merged_list because both listts are already sorted."
   ]
  },
  {
   "cell_type": "markdown",
   "id": "0cdbf8c6",
   "metadata": {},
   "source": [
    "Ans 18.\n",
    "\n",
    "To find the intersection of two given lists, you can use a set to efficiently track element that apper in both lists.\n"
   ]
  },
  {
   "cell_type": "code",
   "execution_count": 57,
   "id": "2bfeb74f",
   "metadata": {},
   "outputs": [
    {
     "name": "stdout",
     "output_type": "stream",
     "text": [
      "Intercetion of list: [4, 5]\n"
     ]
    }
   ],
   "source": [
    "def find_intersection(list1, list2):\n",
    "    #convert list1 to a set for 0(1) lookups\n",
    "    set1 = set(list1)\n",
    "    # Use a list compresion to find elements in both set1 and list2\n",
    "    intersection = [item for item in list2 if item in set1]\n",
    "    return intersection\n",
    "\n",
    "# Example usage\n",
    "list1 = [1, 2, 3, 4, 5]\n",
    "list2 = [4, 5, 6, 7, 8]\n",
    "intersection = find_intersection(list1, list2)\n",
    "print(\"Intercetion of list:\", intersection)\n"
   ]
  },
  {
   "cell_type": "markdown",
   "id": "a3d21839",
   "metadata": {},
   "source": [
    "Explanation:\n",
    "\n",
    ". set1 is created from list1, allowing for 0(1) average-time lookups.\n",
    ". A list comprehension iterates over list2, adding each element to intersecation if it's found in set1.\n"
   ]
  },
  {
   "cell_type": "markdown",
   "id": "e84867a4",
   "metadata": {},
   "source": [
    "Ans 19."
   ]
  },
  {
   "cell_type": "code",
   "execution_count": 58,
   "id": "64f5125f",
   "metadata": {},
   "outputs": [
    {
     "name": "stdout",
     "output_type": "stream",
     "text": [
      "Union without duplicates: [1, 2, 3, 4, 5, 6]\n"
     ]
    }
   ],
   "source": [
    "def union_without_duplicates(list1, list2):\n",
    "    #use a set to get the union without duplicates\n",
    "    union_set = set(list1) | set(list2)\n",
    "    # Convert the set back to a list if needed\n",
    "    return list(union_set)\n",
    "\n",
    "# Example usage\n",
    "list1 = [1, 2, 3, 4]\n",
    "list2 = [3, 4, 5, 6]\n",
    "result = union_without_duplicates(list1, list2)\n",
    "print(\"Union without duplicates:\", result)\n"
   ]
  },
  {
   "cell_type": "markdown",
   "id": "2452ab2f",
   "metadata": {},
   "source": [
    "Explanation:\n",
    "\n",
    "1. Convert each list to set to remove duplicates.\n",
    "2. Use the union operator (|) to get all unique element from both sets.\n",
    "3. Convert the resulting set back to a list if you want the output in list format."
   ]
  },
  {
   "cell_type": "markdown",
   "id": "c5ca7dc3",
   "metadata": {},
   "source": [
    "Ans 20.\n",
    "\n",
    "Here's how you can shuffle a list randomaly without using any built-in shuffle function, by implementing the Fisher-Yates shuffle algrothim:\n"
   ]
  },
  {
   "cell_type": "code",
   "execution_count": 59,
   "id": "eeba5f68",
   "metadata": {},
   "outputs": [],
   "source": [
    "import random\n",
    "\n",
    "def shuffle_list(arr):\n",
    "    n = len(arr)\n",
    "    for i in range(n - 1, 0, -1):\n",
    "        # Generate a random index from 0 to i\n",
    "        j = random.randint(0, i)\n",
    "        # Swap element at i and j\n",
    "        arr[i], arr[j], = arr[j], arr[i]\n",
    "        return arr\n",
    "    \n",
    "    # Example usage\n",
    "    my_list = [1, 2, 3, 4, 5, 6]\n",
    "    suffled_list = shuffle_list(my_list)\n",
    "    print(\"Shuffled list:\", shuffle_list)"
   ]
  },
  {
   "cell_type": "markdown",
   "id": "eee06594",
   "metadata": {},
   "source": [
    "Explanation:\n",
    "\n",
    "1. Loop Backwards: Start from the last element and move towards the first.\n",
    "2. Generate a Random index: For each element at index i, generate a random index j(where 0 < j < i).\n",
    "3. Swap Elements: swap the element at i with the element at j.\n",
    "4. In-place Shuffle: This algorithm shuffles at the list in place, so it doesn't need additinal memory."
   ]
  }
 ],
 "metadata": {
  "kernelspec": {
   "display_name": "Python 3",
   "language": "python",
   "name": "python3"
  },
  "language_info": {
   "codemirror_mode": {
    "name": "ipython",
    "version": 3
   },
   "file_extension": ".py",
   "mimetype": "text/x-python",
   "name": "python",
   "nbconvert_exporter": "python",
   "pygments_lexer": "ipython3",
   "version": "3.13.0"
  }
 },
 "nbformat": 4,
 "nbformat_minor": 5
}
