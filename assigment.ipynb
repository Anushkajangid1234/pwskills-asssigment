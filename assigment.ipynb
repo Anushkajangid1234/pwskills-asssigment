{
 "cells": [
  {
   "cell_type": "markdown",
   "id": "daa4335f",
   "metadata": {},
   "source": [
    "Ans 1.\n",
    "\n",
    " NumPy (Numerical Python) is a fundamental library in Python, designed to enable efficient numerical computations. It plays a crucial role in scientific computing and data analysis due to its performance, versatility, and rich ecosystem. Here's an overview of its purpose and advantages:\n",
    "\n",
    ">Purpose of NumPy:\n",
    "\n",
    ".Efficient Numerical Operations: NumPy provides tools for performing complex numerical operations on large datasets quickly and efficiently.\n",
    "\n",
    ".Multidimensional Array Support: At its core is the powerful ndarray object, which enables working with multidimensional data structures.\n",
    "\n",
    ".Foundation for Other Libraries: NumPy serves as the base for many other scientific computing libraries like SciPy, pandas, scikit-learn, and TensorFlow, ensuring compatibility and ease of integration.\n",
    "\n",
    ">Advantages of NumPy:\n",
    "\n",
    "1. Performance:\n",
    "\n",
    ".Optimized for Speed: NumPy operations are implemented in C, making them significantly faster than equivalent Python loops for numerical tasks.\n",
    "\n",
    ".Vectorized Operations: Instead of processing one element at a time, NumPy performs operations on entire arrays, eliminating the need for slow Python loops.\n",
    "\n",
    "2. Memory Efficiency:\n",
    "\n",
    ".Compact Arrays: NumPy arrays consume less memory compared to Python lists. For example, a NumPy array of integers is stored as contiguous blocks in memory, avoiding overhead from Python objects.\n",
    "\n",
    "3. Broad Functionality:\n",
    "\n",
    ".Mathematical Operations: Offers a wide array of mathematical functions, including linear algebra, Fourier transforms, and statistical computations.\n",
    "\n",
    ".Logical Operations: Enables complex filtering, slicing, and conditional operations on arrays.\n",
    "\n",
    ".Random Number Generation: Includes powerful tools for generating random samples from various probability distributions.\n",
    "\n",
    "4. Flexibility and Ease of Use:\n",
    "\n",
    ".Array Broadcasting: Simplifies operations by allowing arithmetic on arrays of different shapes without explicit reshaping.\n",
    "\n",
    ".Indexing and Slicing: Provides advanced methods for extracting and modifying data, including boolean indexing and multidimensional slicing.\n",
    "\n",
    "5. Compatibility with Other Tools:\n",
    "\n",
    ". Interoperability: Works seamlessly with data analysis and visualization libraries like pandas, matplotlib, and seaborn.\n",
    "\n",
    ".Data Formats: Supports efficient I/O operations for reading/writing arrays in formats like CSV, binary, and NumPy's .npy.\n",
    "\n",
    "6. Scalability:\n",
    "\n",
    ".High Dimensionality: Handles data in one-dimensional (vectors), two-dimensional (matrices), or higher-dimensional arrays with ease.\n",
    "\n",
    ".Parallelism: Often supports multi-threaded and parallel computations via optimized backend libraries like BLAS and LAPACK.\n",
    "\n",
    ".Enhancing Python's Capabilities:\n",
    "\n",
    "Python, while a versatile general-purpose language, is not optimized for heavy numerical or array-based computations. NumPy fills this gap by:\n",
    "\n",
    "1. Providing a fast and efficient array processing library.\n",
    "\n",
    "2. Enabling concise code for numerical tasks, e.g., matrix multiplication can be done with numpy.dot(A, B) rather than verbose nested loops.\n",
    "\n",
    "3. Offering a unified framework for scientific computing tasks that integrates seamlessly with Python's syntax and libraries."
   ]
  },
  {
   "cell_type": "markdown",
   "id": "7d34326b",
   "metadata": {},
   "source": [
    "Ans 2. \n",
    "\n",
    "Both np.mean() and np.average() are functions in NumPy used to compute the average of numerical data, but they differ in functionality and use cases. Here's a comparison:\n",
    "\n",
    "\n",
    "1. Definition and Functionality\n",
    "\n",
    ".np.mean():\n",
    "\n",
    ".Computes the arithmetic mean (simple average) of the array elements.\n",
    "\n",
    ".Does not support weights-each element is treated equally.\n",
    "\n",
    ".Syntax: np.mean(arr, axis=None, dtype=None, keepdims=False)\n",
    "\n",
    "Example:"
   ]
  },
  {
   "cell_type": "code",
   "execution_count": 47,
   "id": "cf3d8e3c",
   "metadata": {},
   "outputs": [
    {
     "data": {
      "text/plain": [
       "np.float64(2.5)"
      ]
     },
     "execution_count": 47,
     "metadata": {},
     "output_type": "execute_result"
    }
   ],
   "source": [
    "import numpy as np\n",
    "\n",
    "arr = np.array([1, 2, 3, 4])\n",
    "np.mean(arr)  # Output: 2.5"
   ]
  },
  {
   "cell_type": "markdown",
   "id": "98f025c0",
   "metadata": {},
   "source": [
    ".np.average():\n",
    "\n",
    ".Computes a weighted average of the array elements if weights are provided; otherwise, behaves like np.mean().\n",
    "\n",
    ".Syntax: np.average(arr, weights=None, axis=None, returned=False)\n",
    "\n",
    ".weights: Array-like object specifying the weight for each element.\n",
    "\n",
    ".returned: If True, also returns the sum of weights.\n"
   ]
  },
  {
   "cell_type": "code",
   "execution_count": 48,
   "id": "ac097bb0",
   "metadata": {},
   "outputs": [
    {
     "data": {
      "text/plain": [
       "np.float64(2.8333333333333335)"
      ]
     },
     "execution_count": 48,
     "metadata": {},
     "output_type": "execute_result"
    }
   ],
   "source": [
    "import numpy as np\n",
    "\n",
    "arr = np.array([1, 2, 3, 4])\n",
    "weights = np.array([1, 1, 2, 2])\n",
    "np.average(arr, weights=weights)  # Output: 3.0"
   ]
  },
  {
   "cell_type": "markdown",
   "id": "3d9f5ec6",
   "metadata": {},
   "source": [
    "3. When to Use Each Function:\n",
    "\n",
    ".Use np.mean():\n",
    "\n",
    ".When computing the arithmetic mean of an array.\n",
    "\n",
    ".When weights are not needed, and simplicity or performance is preferred.\n",
    "\n",
    ".Example: Finding the mean temperature of a dataset.\n",
    "\n",
    ".Use np.average():\n",
    "\n",
    ".When calculating a weighted mean, such as in scenarios where data points contribute unequally to the average.\n",
    "\n",
    ".Example: Finding the weighted average score of students, where weights are the number of credits per course.\n",
    "\n",
    ".When you need both the weighted average and the sum of weights, set returned=True.\n",
    "\n",
    "> Example of Both Function"
   ]
  },
  {
   "cell_type": "code",
   "execution_count": 49,
   "id": "c642793f",
   "metadata": {},
   "outputs": [],
   "source": [
    "import numpy as np\n",
    "\n",
    "data = np.array([10, 20, 30, 40])\n",
    "weights = np.array([1, 2, 3, 4])\n",
    "\n",
    "# Simple mean\n",
    "mean_result = np.mean(data)  # Output: 25.0\n",
    "\n",
    "# Weighted average\n",
    "weighted_avg = np.average(data, weights=weights)  # Output: 30.0"
   ]
  },
  {
   "cell_type": "markdown",
   "id": "b8972aee",
   "metadata": {},
   "source": [
    "Ans 3.\n",
    "\n",
    "Reversing a NumPy array can be done using slicing or specific functions depending on the axis you want to reverse. Below are the methods and examples for reversing 1D and 2D arrays along different axes.\n",
    "\n",
    "\n",
    "1. Reversing a 1D Array\n",
    "\n",
    "For a 1D array, reversing means flipping the order of elements.\n",
    "\n",
    "Method: Using slicing ([::-1])\n",
    "Syntax: array[::-1]\n",
    "Example:"
   ]
  },
  {
   "cell_type": "code",
   "execution_count": 50,
   "id": "7b2326a7",
   "metadata": {},
   "outputs": [
    {
     "name": "stdout",
     "output_type": "stream",
     "text": [
      "Original: [1 2 3 4 5]\n",
      "Reversed: [5 4 3 2 1]\n"
     ]
    }
   ],
   "source": [
    "import numpy as np\n",
    "\n",
    "arr = np.array([1, 2, 3, 4, 5])\n",
    "reversed_arr = arr[::-1]\n",
    "print(\"Original:\", arr)        # Output: [1 2 3 4 5]\n",
    "print(\"Reversed:\", reversed_arr)  # Output: [5 4 3 2 1]"
   ]
  },
  {
   "cell_type": "markdown",
   "id": "1ba0cc95",
   "metadata": {},
   "source": [
    "2. Reversing a 2D Array\n",
    "For a 2D array, you can reverse rows, columns, or both.\n",
    "\n",
    "Reversing Rows\n",
    "Reverses the order of rows along axis 0.\n",
    "\n",
    "Method: array[::-1, :]\n",
    "\n",
    ". Example"
   ]
  },
  {
   "cell_type": "code",
   "execution_count": 51,
   "id": "69943647",
   "metadata": {},
   "outputs": [
    {
     "name": "stdout",
     "output_type": "stream",
     "text": [
      "Original:\n",
      " [[1 2 3]\n",
      " [4 5 6]\n",
      " [7 8 9]]\n",
      "Reversed Rows:\n",
      " [[7 8 9]\n",
      " [4 5 6]\n",
      " [1 2 3]]\n"
     ]
    }
   ],
   "source": [
    "arr = np.array([[1, 2, 3],\n",
    "                [4, 5, 6],\n",
    "                [7, 8, 9]])\n",
    "reversed_rows = arr[::-1, :]\n",
    "print(\"Original:\\n\", arr)\n",
    "print(\"Reversed Rows:\\n\", reversed_rows)"
   ]
  },
  {
   "cell_type": "markdown",
   "id": "a693b1db",
   "metadata": {},
   "source": [
    "Reversing Both Rows and Columns\n",
    "Reverses the entire 2D array.\n",
    "\n",
    "Method: array[::-1, ::-1]\n",
    "Example:"
   ]
  },
  {
   "cell_type": "code",
   "execution_count": 52,
   "id": "cf3897ff",
   "metadata": {},
   "outputs": [
    {
     "name": "stdout",
     "output_type": "stream",
     "text": [
      "Reversed Both Rows and Columns:\n",
      " [[9 8 7]\n",
      " [6 5 4]\n",
      " [3 2 1]]\n"
     ]
    }
   ],
   "source": [
    "reversed_all = arr[::-1, ::-1]\n",
    "print(\"Reversed Both Rows and Columns:\\n\", reversed_all)"
   ]
  },
  {
   "cell_type": "markdown",
   "id": "cdced321",
   "metadata": {},
   "source": [
    "3. Using np.flip for General Reversals:\n",
    "\n",
    "The np.flip function can reverse an array along any axis.\n",
    "\n",
    "1D Array"
   ]
  },
  {
   "cell_type": "code",
   "execution_count": 53,
   "id": "d8594ba0",
   "metadata": {},
   "outputs": [
    {
     "name": "stdout",
     "output_type": "stream",
     "text": [
      "Flipped 1D Array: [[9 8 7]\n",
      " [6 5 4]\n",
      " [3 2 1]]\n"
     ]
    }
   ],
   "source": [
    "flipped = np.flip(arr)\n",
    "print(\"Flipped 1D Array:\", flipped)"
   ]
  },
  {
   "cell_type": "markdown",
   "id": "55d89a42",
   "metadata": {},
   "source": [
    "2D Array\n",
    "Reverse along rows (axis=0):"
   ]
  },
  {
   "cell_type": "code",
   "execution_count": 54,
   "id": "dc4796d0",
   "metadata": {},
   "outputs": [
    {
     "name": "stdout",
     "output_type": "stream",
     "text": [
      "Flipped Rows:\n",
      " [[7 8 9]\n",
      " [4 5 6]\n",
      " [1 2 3]]\n"
     ]
    }
   ],
   "source": [
    "flipped_rows = np.flip(arr, axis=0)\n",
    "print(\"Flipped Rows:\\n\", flipped_rows)"
   ]
  },
  {
   "cell_type": "markdown",
   "id": "54751544",
   "metadata": {},
   "source": [
    ". Reverse along colums(axis=1):"
   ]
  },
  {
   "cell_type": "code",
   "execution_count": 55,
   "id": "29b98028",
   "metadata": {},
   "outputs": [
    {
     "name": "stdout",
     "output_type": "stream",
     "text": [
      "flipped colums:\n",
      " [[3 2 1]\n",
      " [6 5 4]\n",
      " [9 8 7]]\n"
     ]
    }
   ],
   "source": [
    "flipped_cols = np.flip(arr,axis=1)\n",
    "print(\"flipped colums:\\n\", flipped_cols)"
   ]
  },
  {
   "cell_type": "markdown",
   "id": "5e969ffe",
   "metadata": {},
   "source": [
    "Reverse Entire Array"
   ]
  },
  {
   "cell_type": "code",
   "execution_count": 56,
   "id": "af97f2bd",
   "metadata": {},
   "outputs": [
    {
     "name": "stdout",
     "output_type": "stream",
     "text": [
      "Flipped Entire Array:\n",
      " [[9 8 7]\n",
      " [6 5 4]\n",
      " [3 2 1]]\n"
     ]
    }
   ],
   "source": [
    "flipped_all = np.flip(arr)\n",
    "print(\"Flipped Entire Array:\\n\", flipped_all)"
   ]
  },
  {
   "cell_type": "markdown",
   "id": "54d54649",
   "metadata": {},
   "source": [
    "Ans 5.\n",
    "\n",
    "Determining the Data Type of Elements in a NumPy Array\n",
    "\n",
    "The data type of elements in a NumPy array is stored in its dtype attribute. You can determine the data type using:\n",
    "\n",
    "1. array.dtype: Returns the data type of the array elements."
   ]
  },
  {
   "cell_type": "code",
   "execution_count": 57,
   "id": "541d8c6c",
   "metadata": {},
   "outputs": [
    {
     "name": "stdout",
     "output_type": "stream",
     "text": [
      "int32\n"
     ]
    }
   ],
   "source": [
    "import numpy as np\n",
    "arr = np.array([1, 2, 3], dtype=np.int32)\n",
    "print(arr.dtype) # Output: int32"
   ]
  },
  {
   "cell_type": "markdown",
   "id": "9cda8807",
   "metadata": {},
   "source": [
    "2. type(): Determines the data type of a specific element in the array."
   ]
  },
  {
   "cell_type": "code",
   "execution_count": 58,
   "id": "9ccb30bf",
   "metadata": {},
   "outputs": [
    {
     "name": "stdout",
     "output_type": "stream",
     "text": [
      "<class 'numpy.int32'>\n"
     ]
    }
   ],
   "source": [
    "print(type(arr[0])) # Output: <class 'numpy.int32'>"
   ]
  },
  {
   "cell_type": "markdown",
   "id": "56e6a64d",
   "metadata": {},
   "source": [
    "3. np.issubdtype(): Checks if the array's data type is a subtype of a given type."
   ]
  },
  {
   "cell_type": "code",
   "execution_count": 59,
   "id": "f6924524",
   "metadata": {},
   "outputs": [
    {
     "name": "stdout",
     "output_type": "stream",
     "text": [
      "True\n",
      "False\n"
     ]
    }
   ],
   "source": [
    "print(np.issubdtype(arr.dtype, np.integer))  # Output: True\n",
    "print(np.issubdtype(arr.dtype, np.float64))  # Output: False"
   ]
  },
  {
   "cell_type": "markdown",
   "id": "31e09a0f",
   "metadata": {},
   "source": [
    ">Importance of Data Types in NumPy\n",
    "\n",
    "Data types in NumPy (e.g., int32, float64) are critical for memory management and performance optimization in numerical computing.\n",
    "\n",
    "1. Memory Management\n",
    "\n",
    ".Efficient Storage: NumPy arrays use fixed-size data types, reducing memory overhead compared to Python lists, which store data as objects with additional metadata.\n",
    "\n",
    ".Example:\n",
    "A Python list of integers takes significantly more memory than a NumPy array with int32 or int64 elements."
   ]
  },
  {
   "cell_type": "code",
   "execution_count": 60,
   "id": "ac28daad",
   "metadata": {},
   "outputs": [
    {
     "name": "stdout",
     "output_type": "stream",
     "text": [
      "84\n",
      "12\n"
     ]
    }
   ],
   "source": [
    "import numpy as np\n",
    "import sys\n",
    "\n",
    "py_list = [1, 2, 3]\n",
    "np_array = np.array([1, 2, 3], dtype=np.int32)\n",
    "\n",
    "print(sys.getsizeof(py_list[0]) * len(py_list))  # Size of Python list\n",
    "print(np_array.nbytes)  # Size of NumPy array"
   ]
  },
  {
   "cell_type": "markdown",
   "id": "bc93f654",
   "metadata": {},
   "source": [
    ".Customizable Precision: Choosing the appropriate data type (e.g., float32 instead of float64) minimizes memory usage without sacrificing accuracy for specific applications.\n",
    "\n",
    "2. Performance Optimization\n",
    "\n",
    ".Vectorized Operations: NumPy arrays are optimized for vectorized operations, and fixed-size data types allow computations to be performed directly at the hardware level using SIMD (Single Instruction, Multiple Data).\n",
    "\n",
    ".Smaller data types (int8, float32) process faster since they require less bandwidth and fit more elements in memory."
   ]
  },
  {
   "cell_type": "code",
   "execution_count": 61,
   "id": "a776155f",
   "metadata": {},
   "outputs": [
    {
     "name": "stdout",
     "output_type": "stream",
     "text": [
      "310 μs ± 13.2 μs per loop (mean ± std. dev. of 7 runs, 1,000 loops each)\n",
      "396 μs ± 37.8 μs per loop (mean ± std. dev. of 7 runs, 1,000 loops each)\n"
     ]
    }
   ],
   "source": [
    "arr1 = np.random.rand(1_000_000).astype(np.float32)\n",
    "arr2 = np.random.rand(1_000_000).astype(np.float64)\n",
    "\n",
    "%timeit np.sum(arr1)  # Faster due to float32\n",
    "%timeit np.sum(arr2)  # Slower due to float64"
   ]
  },
  {
   "cell_type": "markdown",
   "id": "6d9d113f",
   "metadata": {},
   "source": [
    ".Avoiding Type Conversion: Using a consistent data type prevents unnecessary type conversions, which can slow down computations."
   ]
  },
  {
   "cell_type": "code",
   "execution_count": 62,
   "id": "4edb8ab4",
   "metadata": {},
   "outputs": [],
   "source": [
    "arr = np.array([1, 2, 3], dtype=np.float32)\n",
    "result = arr + 2.5  # No type conversion needed"
   ]
  },
  {
   "cell_type": "markdown",
   "id": "d398795c",
   "metadata": {},
   "source": [
    "3. Accuracy and Range\n",
    ".Range of Values: Certain data types have specific ranges (e.g., int8 supports -128 to 127). Choosing the wrong type can lead to overflow or underflow errors.\n",
    "\n",
    ".Precision: Applications requiring high precision (e.g., scientific simulations) may require float64 or complex128.\n",
    "\n",
    "4. Compatibility with External Tools\n",
    "\n",
    ".Many scientific and machine learning tools require specific data types for compatibility. For example:\n",
    "\n",
    ".TensorFlow prefers float32 for model training due to GPU optimization.\n",
    "\n",
    ".Pandas often interacts with NumPy arrays, and incorrect data types can lead to inefficiencies."
   ]
  },
  {
   "cell_type": "markdown",
   "id": "bb2b36f9",
   "metadata": {},
   "source": [
    ">Best Practices\n",
    "1. Choose the Smallest Data Type That Meets Your Needs:\n",
    "\n",
    ".For integers: Use int8, int16, or int32 based on the expected range.\n",
    "\n",
    ".For floating-point numbers: Use float32 for lower precision and float64 for high precision."
   ]
  },
  {
   "cell_type": "code",
   "execution_count": 63,
   "id": "1e6f2fc5",
   "metadata": {},
   "outputs": [],
   "source": [
    "small_array = np.array([1, 2, 3], dtype=np.int8)  # Efficient storage"
   ]
  },
  {
   "cell_type": "markdown",
   "id": "671fa036",
   "metadata": {},
   "source": [
    "2. Be Mindful of Mixed Types:\n",
    "\n",
    ".Mixing data types in operations may lead to unexpected behavior or conversions."
   ]
  },
  {
   "cell_type": "code",
   "execution_count": 64,
   "id": "01671baa",
   "metadata": {},
   "outputs": [],
   "source": [
    "arr = np.array([1.0, 2, 3])  # Converts to float64"
   ]
  },
  {
   "cell_type": "markdown",
   "id": "fca40855",
   "metadata": {},
   "source": [
    "3. Inspect and Convert Data Types as Needed:\n",
    "\n",
    ".Use astype() to convert:"
   ]
  },
  {
   "cell_type": "code",
   "execution_count": 65,
   "id": "9d5b436f",
   "metadata": {},
   "outputs": [],
   "source": [
    "arr = arr.astype(np.float32)"
   ]
  },
  {
   "cell_type": "markdown",
   "id": "a960f4b7",
   "metadata": {},
   "source": [
    "Ans 4.\n",
    "\n",
    ">Definition of ndarray in NumPy\n",
    "\n",
    "An ndarray (short for N-dimensional array) is the primary data structure in NumPy. It represents a collection of elements, all of the same data type, indexed by a tuple of non-negative integers. ndarray is designed for efficient numerical computations and can handle multi-dimensional data.\n",
    "Key Features of ndarray\n",
    "\n",
    "1. Homogeneous Data:\n",
    "\n",
    ".All elements in an ndarray must be of the same data type (e.g., int32, float64), which ensures consistency and allows for efficient memory use and computation.\n",
    "\n",
    "2. Multi-dimensional:\n",
    "\n",
    ".Supports arrays of arbitrary dimensions (1D, 2D, 3D, etc.), making it ideal for representing scalars, vectors, matrices, and tensors.\n",
    "\n",
    "3. Efficient Memory Layout:\n",
    "\n",
    ".Uses a contiguous memory block for storage, enabling faster access and manipulation compared to Python lists.\n",
    "\n",
    "4. Rich Functionalities:\n",
    "\n",
    ".Supports mathematical operations (e.g., addition, subtraction, multiplication) applied element-wise.\n",
    "\n",
    ".Includes methods for slicing, reshaping, aggregations (e.g., mean, sum), and more.\n",
    "\n",
    "5. Data Type Flexibility:\n",
    "\n",
    ".Allows specifying precise data types (dtype), such as int8, float32, or complex128, offering control over precision and memory usage.\n",
    "\n",
    "6. Broadcasting:\n",
    "\n",
    ".Automatically expands arrays with different shapes to enable element-wise operations without explicit looping or reshaping.\n",
    "\n",
    "7. Vectorized Operations:\n",
    "\n",
    ".Operates on entire arrays without requiring explicit loops, which is both faster and more concise.\n",
    "\n",
    "8. Interoperability:\n",
    "\n",
    "Works seamlessly with other scientific libraries, such as pandas, SciPy, and TensorFlow.\n",
    "\n",
    ">Example Comparsion"
   ]
  },
  {
   "cell_type": "code",
   "execution_count": 66,
   "id": "fe8eea38",
   "metadata": {},
   "outputs": [
    {
     "name": "stdout",
     "output_type": "stream",
     "text": [
      "[1, 4, 9]\n"
     ]
    }
   ],
   "source": [
    "# Create a list\n",
    "py_list = [1, 2, 3]\n",
    "\n",
    "# Element-wise operation (requires looping)\n",
    "squared = [x**2 for x in py_list]\n",
    "print(squared)  # Output: [1, 4, 9]"
   ]
  },
  {
   "cell_type": "markdown",
   "id": "73cffd9c",
   "metadata": {},
   "source": [
    "NumPy ndarry:"
   ]
  },
  {
   "cell_type": "code",
   "execution_count": 67,
   "id": "25f52342",
   "metadata": {},
   "outputs": [
    {
     "name": "stdout",
     "output_type": "stream",
     "text": [
      "[1 4 9]\n"
     ]
    }
   ],
   "source": [
    "import numpy as np\n",
    "\n",
    "# Create an ndarray\n",
    "arr = np.array([1, 2, 3])\n",
    "\n",
    "# Element-wise operation (vectorized)\n",
    "squared = arr**2\n",
    "print(squared)  # Output: [1 4 9]"
   ]
  },
  {
   "cell_type": "markdown",
   "id": "34e5e0fd",
   "metadata": {},
   "source": [
    "Multi-dimensional Example\n",
    "\n",
    "Python lists require nesting and explicit loops:"
   ]
  },
  {
   "cell_type": "code",
   "execution_count": 68,
   "id": "dfbc9649",
   "metadata": {},
   "outputs": [
    {
     "name": "stdout",
     "output_type": "stream",
     "text": [
      "[[1, 3], [2, 4]]\n"
     ]
    }
   ],
   "source": [
    "# Nested list\n",
    "nested_list = [[1, 2], [3, 4]]\n",
    "transposed = [[row[i] for row in nested_list] for i in range(len(nested_list[0]))]\n",
    "print(transposed)  # Output: [[1, 3], [2, 4]]"
   ]
  },
  {
   "cell_type": "markdown",
   "id": "d22ab4e9",
   "metadata": {},
   "source": [
    "With NumPy, you can use built-in function:"
   ]
  },
  {
   "cell_type": "code",
   "execution_count": 69,
   "id": "989c12b1",
   "metadata": {},
   "outputs": [
    {
     "name": "stdout",
     "output_type": "stream",
     "text": [
      "[[1 3]\n",
      " [2 4]]\n"
     ]
    }
   ],
   "source": [
    "# 2D array\n",
    "matrix = np.array([[1, 2], [3, 4]])\n",
    "transposed = matrix.T\n",
    "print(transposed)  # Output: [[1 3]\n",
    "                   #          [2 4]]"
   ]
  },
  {
   "cell_type": "markdown",
   "id": "fd6e28ef",
   "metadata": {},
   "source": [
    "When to Use ndarray\n",
    "\n",
    ".For numerical computations, data analysis, or tasks requiring performance and memory efficiency.\n",
    "\n",
    ".When working with multi-dimensional data like matrices or tensors.\n",
    "\n",
    ".When scalability, precision, or compatibility with scientific libraries is required."
   ]
  },
  {
   "cell_type": "markdown",
   "id": "9b7809bf",
   "metadata": {},
   "source": [
    "Ans 6.\n",
    "\n",
    "Performance Benefits of NumPy Arrays over Python Lists\n",
    "\n",
    "NumPy arrays (ndarray) offer significant performance advantages over Python lists when handling large-scale numerical operations. These benefits arise from efficient memory management, vectorized operations, and optimized low-level implementations. Here’s a detailed analysis:\n",
    "\n",
    "1. Memory Efficiency\n",
    "\n",
    ".Compact Storage:\n",
    "\n",
    ".NumPy arrays use a contiguous block of memory and store elements in fixed-size data types (e.g., int32, float64). This reduces the memory overhead compared to Python lists, where each element is a Python object with additional metadata.\n",
    "\n",
    ".Example:"
   ]
  },
  {
   "cell_type": "code",
   "execution_count": 70,
   "id": "495ea8ee",
   "metadata": {},
   "outputs": [
    {
     "name": "stdout",
     "output_type": "stream",
     "text": [
      "List size: 140\n",
      "NumPy size: 40\n"
     ]
    }
   ],
   "source": [
    "import numpy as np\n",
    "import sys\n",
    "\n",
    "py_list = [1, 2, 3, 4, 5]\n",
    "np_array = np.array([1, 2, 3, 4, 5])\n",
    "\n",
    "print(\"List size:\", sys.getsizeof(py_list[0]) * len(py_list))  # Output: 140 bytes (Python list)\n",
    "print(\"NumPy size:\", np_array.nbytes)                        # Output: 20 bytes (NumPy array)"
   ]
  },
  {
   "cell_type": "markdown",
   "id": "7e070488",
   "metadata": {},
   "source": [
    ".Scalability:\n",
    "\n",
    ".As data scales up, the fixed-type storage of NumPy arrays becomes increasingly beneficial.\n",
    "\n",
    "2. Faster Execution with Vectorized Operations\n",
    "\n",
    ".Element-wise Operations:\n",
    "\n",
    ".NumPy arrays perform operations directly on the entire array using highly optimized C and Fortran libraries, avoiding the need for Python-level loops.\n",
    "\n",
    "Example:"
   ]
  },
  {
   "cell_type": "code",
   "execution_count": 71,
   "id": "3f17f874",
   "metadata": {},
   "outputs": [
    {
     "name": "stdout",
     "output_type": "stream",
     "text": [
      "Python list time: 0.03943133354187012\n",
      "NumPy array time: 0.0020956993103027344\n"
     ]
    }
   ],
   "source": [
    "import numpy as np\n",
    "import time\n",
    "\n",
    "size = 10**6\n",
    "py_list = list(range(size))\n",
    "np_array = np.arange(size)\n",
    "\n",
    "# Python list (manual loop)\n",
    "start = time.time()\n",
    "py_result = [x * 2 for x in py_list]\n",
    "print(\"Python list time:\", time.time() - start)\n",
    "\n",
    "# NumPy array (vectorized)\n",
    "start = time.time()\n",
    "np_result = np_array * 2\n",
    "print(\"NumPy array time:\", time.time() - start)"
   ]
  },
  {
   "cell_type": "markdown",
   "id": "173d0a89",
   "metadata": {},
   "source": [
    ".Broadcasting:\n",
    "\n",
    ".NumPy supports broadcasting, allowing operations on arrays of different shapes without explicit loops."
   ]
  },
  {
   "cell_type": "code",
   "execution_count": 72,
   "id": "656f14d2",
   "metadata": {},
   "outputs": [
    {
     "name": "stdout",
     "output_type": "stream",
     "text": [
      "[11 12 13]\n"
     ]
    }
   ],
   "source": [
    "arr = np.array([1, 2, 3])\n",
    "print(arr + 10)  # Output: [11 12 13]"
   ]
  },
  {
   "cell_type": "markdown",
   "id": "6b79333b",
   "metadata": {},
   "source": [
    "3. Efficient Use of CPU and SIMD\n",
    "\n",
    ".NumPy leverages SIMD (Single Instruction, Multiple Data) instructions, allowing the CPU to perform operations on multiple elements simultaneously.\n",
    "\n",
    ".NumPy’s low-level implementation uses efficient BLAS (Basic Linear Algebra Subprograms) and LAPACK libraries for numerical operations.\n",
    "\n",
    "4. Precompiled Functions\n",
    "\n",
    ".Functions like np.sum(), np.mean(), and others are precompiled and implemented in C, making them significantly faster than equivalent Python functions.\n",
    "\n",
    "Example:"
   ]
  },
  {
   "cell_type": "code",
   "execution_count": 73,
   "id": "b9279737",
   "metadata": {},
   "outputs": [
    {
     "name": "stdout",
     "output_type": "stream",
     "text": [
      "Python sum time: 0.006178617477416992\n",
      "NumPy sum time: 0.0008208751678466797\n"
     ]
    }
   ],
   "source": [
    "import numpy as np\n",
    "\n",
    "size = 10**6\n",
    "py_list = list(range(size))\n",
    "np_array = np.arange(size)\n",
    "\n",
    "# Python sum\n",
    "start = time.time()\n",
    "py_sum = sum(py_list)\n",
    "print(\"Python sum time:\", time.time() - start)\n",
    "\n",
    "# NumPy sum\n",
    "start = time.time()\n",
    "np_sum = np.sum(np_array)\n",
    "print(\"NumPy sum time:\", time.time() - start)"
   ]
  },
  {
   "cell_type": "markdown",
   "id": "c647ca9a",
   "metadata": {},
   "source": [
    "5. Multi-dimensional Data Handling\n",
    "\n",
    ".NumPy efficiently handles multi-dimensional data without nested loops, unlike Python lists, which require complex nesting and operations.\n",
    "\n",
    "Example:"
   ]
  },
  {
   "cell_type": "code",
   "execution_count": 74,
   "id": "6b2c1140",
   "metadata": {},
   "outputs": [],
   "source": [
    "# Matrix multiplication\n",
    "import numpy as np\n",
    "\n",
    "A = np.random.rand(1000, 1000)\n",
    "B = np.random.rand(1000, 1000)\n",
    "\n",
    "# Fast matrix multiplication\n",
    "C = np.dot(A, B)"
   ]
  },
  {
   "cell_type": "markdown",
   "id": "6a468310",
   "metadata": {},
   "source": [
    "Ans 7.\n",
    "\n",
    "In NumPy, vstack() and hstack() are used to stack arrays along different axes. Here's a detailed comparison with examples:\n",
    "\n",
    "1. numpy.vstack()\n",
    "\n",
    ".Purpose: Stacks arrays vertically (row-wise).\n",
    "\n",
    ".Axis of stacking: Adds arrays along a new vertical axis.\n",
    "\n",
    ".Requirements: The arrays must have the same number of columns (shapes along the second dimension must match).\n",
    "\n",
    "Example:"
   ]
  },
  {
   "cell_type": "code",
   "execution_count": 75,
   "id": "75b8028f",
   "metadata": {},
   "outputs": [
    {
     "name": "stdout",
     "output_type": "stream",
     "text": [
      "Result of vstack:\n",
      "[[1 2]\n",
      " [3 4]\n",
      " [5 6]]\n"
     ]
    }
   ],
   "source": [
    "import numpy as np\n",
    "\n",
    "# Creating two arrays\n",
    "array1 = np.array([[1, 2], [3, 4]])\n",
    "array2 = np.array([[5, 6]])\n",
    "\n",
    "# Using vstack()\n",
    "result_vstack = np.vstack((array1, array2))\n",
    "\n",
    "print(\"Result of vstack:\")\n",
    "print(result_vstack)"
   ]
  },
  {
   "cell_type": "markdown",
   "id": "a8ebbad0",
   "metadata": {},
   "source": [
    "2. numpy.hstack()\n",
    "\n",
    ".Purpose: Stacks arrays horizontally (column-wise).\n",
    "\n",
    ".Axis of stacking: Adds arrays along a new horizontal axis.\n",
    "\n",
    ".Requirements: The arrays must have the same number of rows (shapes along the first dimension must match)."
   ]
  },
  {
   "cell_type": "code",
   "execution_count": 76,
   "id": "7634aebd",
   "metadata": {},
   "outputs": [
    {
     "name": "stdout",
     "output_type": "stream",
     "text": [
      "Result of hstack:\n",
      "[[1 2 5]\n",
      " [3 4 6]]\n"
     ]
    }
   ],
   "source": [
    "# Using the same arrays\n",
    "result_hstack = np.hstack((array1, array2.T))  # Note: array2 is transposed to match rows\n",
    "\n",
    "print(\"Result of hstack:\")\n",
    "print(result_hstack)"
   ]
  },
  {
   "cell_type": "markdown",
   "id": "f008e92d",
   "metadata": {},
   "source": [
    "Combined Demonstration:"
   ]
  },
  {
   "cell_type": "code",
   "execution_count": 77,
   "id": "6763adc8",
   "metadata": {},
   "outputs": [
    {
     "name": "stdout",
     "output_type": "stream",
     "text": [
      "vstack result:\n",
      " [[1 2]\n",
      " [3 4]\n",
      " [5 6]]\n",
      "hstack result:\n",
      " [[1 2 5]\n",
      " [3 4 6]]\n"
     ]
    }
   ],
   "source": [
    "# Demonstrating both\n",
    "result_vstack = np.vstack((array1, array2))\n",
    "result_hstack = np.hstack((array1, array2.T))\n",
    "\n",
    "print(\"vstack result:\\n\", result_vstack)\n",
    "print(\"hstack result:\\n\", result_hstack)"
   ]
  },
  {
   "cell_type": "markdown",
   "id": "30c382d5",
   "metadata": {},
   "source": [
    "Ans 8.\n",
    "\n",
    "In NumPy, fliplr() and flipud() are used to reverse the order of elements in arrays along specific dimensions. Here's a breakdown of their differences, effects, and examples.\n",
    "\n",
    "1. numpy.fliplr()\n",
    "\n",
    ".Purpose: Flips the array left to right (reverses the order of columns).\n",
    "\n",
    ".Effect on Dimensions: Operates along the last axis (axis=1).\n",
    "\n",
    ".Requirements: The array must be at least 2-dimensional.\n",
    "\n",
    "Behavior:\n",
    "\n",
    ".Columns are reversed for each row, but the row order remains unchanged.\n",
    "\n",
    "Example:"
   ]
  },
  {
   "cell_type": "code",
   "execution_count": 78,
   "id": "017c6f81",
   "metadata": {},
   "outputs": [
    {
     "name": "stdout",
     "output_type": "stream",
     "text": [
      "Original array:\n",
      "[[1 2 3]\n",
      " [4 5 6]\n",
      " [7 8 9]]\n",
      "\n",
      "Result of fliplr:\n",
      "[[3 2 1]\n",
      " [6 5 4]\n",
      " [9 8 7]]\n"
     ]
    }
   ],
   "source": [
    "import numpy as np\n",
    "\n",
    "# Creating a 2D array\n",
    "array = np.array([[1, 2, 3],\n",
    "                  [4, 5, 6],\n",
    "                  [7, 8, 9]])\n",
    "\n",
    "# Applying fliplr()\n",
    "result_fliplr = np.fliplr(array)\n",
    "\n",
    "print(\"Original array:\")\n",
    "print(array)\n",
    "\n",
    "print(\"\\nResult of fliplr:\")\n",
    "print(result_fliplr)\n"
   ]
  },
  {
   "cell_type": "markdown",
   "id": "b334b382",
   "metadata": {},
   "source": [
    "2. numpy.flipud()\n",
    "\n",
    ".Purpose: Flips the array upside down (reverses the order of rows).\n",
    "\n",
    ".Effect on Dimensions: Operates along the first axis (axis=0).\n",
    "\n",
    ".Requirements: The array must be at least 2-dimensional.\n",
    "\n",
    "Behavior:\n",
    ".Rows are reversed for the entire array, but the column order remains unchanged.\n",
    "\n",
    "Example:"
   ]
  },
  {
   "cell_type": "markdown",
   "id": "0437f389",
   "metadata": {},
   "source": [
    "For Higher Dimensions:\n",
    "\n",
    "For arrays with more than two dimensions:\n",
    "\n",
    ".fliplr() reverses the second-to-last axis (e.g., for a 3D array, it flips along the axis of columns in each 2D \"slice\").\n",
    "\n",
    ".flipud() reverses the first axis (e.g., flips the \"slices\" along the vertical axis).\n",
    "\n",
    "Example with a 3D array:"
   ]
  },
  {
   "cell_type": "code",
   "execution_count": 79,
   "id": "ceb61316",
   "metadata": {},
   "outputs": [
    {
     "name": "stdout",
     "output_type": "stream",
     "text": [
      "Original 3D array:\n",
      "[[[1 2]\n",
      "  [3 4]]\n",
      "\n",
      " [[5 6]\n",
      "  [7 8]]]\n",
      "\n",
      "fliplr result:\n",
      "[[[3 4]\n",
      "  [1 2]]\n",
      "\n",
      " [[7 8]\n",
      "  [5 6]]]\n",
      "\n",
      "flipud result:\n",
      "[[[5 6]\n",
      "  [7 8]]\n",
      "\n",
      " [[1 2]\n",
      "  [3 4]]]\n"
     ]
    }
   ],
   "source": [
    "array_3d = np.array([[[1, 2], [3, 4]], \n",
    "                     [[5, 6], [7, 8]]])\n",
    "\n",
    "print(\"Original 3D array:\")\n",
    "print(array_3d)\n",
    "\n",
    "print(\"\\nfliplr result:\")\n",
    "print(np.fliplr(array_3d))  # Flips columns of each 2D slice\n",
    "\n",
    "print(\"\\nflipud result:\")\n",
    "print(np.flipud(array_3d))  # Flips the 2D slices along the vertical axis"
   ]
  },
  {
   "cell_type": "markdown",
   "id": "10bf6b81",
   "metadata": {},
   "source": [
    "Summary:\n",
    "\n",
    ".Use fliplr() to reverse the order of columns.\n",
    "\n",
    ".Use flipud() to reverse the order of rows.\n",
    "\n",
    "Both are intuitive methods for manipulating arrays, particularly useful in image processing and data visualization tasks."
   ]
  },
  {
   "cell_type": "markdown",
   "id": "6a7a194d",
   "metadata": {},
   "source": [
    "Ans 9.\n",
    "\n",
    "The numpy.array_split() function is used to split an array into multiple sub-arrays along a specified axis. Unlike numpy.split(), which requires that the array can be evenly split, array_split() can handle uneven splits gracefully.\n",
    "\n",
    "Key Features of array_split()\n",
    "\n",
    "1. Uneven Splits:\n",
    "\n",
    ".If the array cannot be split evenly into the specified number of sub-arrays, array_split() distributes the elements as evenly as possible.\n",
    "\n",
    ".Sub-arrays will differ in size, with the first few sub-arrays being larger if the split is uneven.\n",
    "\n",
    "2. Arguments:\n",
    "\n",
    ".ary: The array to split. \n",
    "\n",
    ".indices_or_sections:\n",
    "\n",
    ".If an integer, it specifies the number of equal or nearly equal sub-arrays to create.\n",
    "\n",
    ".If a list or array of indices, it specifies the boundaries at which to split the array.\n",
    "\n",
    ".axis (optional): The axis along which the array should be split (default is 0).\n",
    "\n",
    "3. Return:\n",
    "\n",
    ".A list of sub-arrays.\n",
    "\n",
    "Example:\n",
    "\n",
    "1. Uneven Splitting with integer input"
   ]
  },
  {
   "cell_type": "code",
   "execution_count": 80,
   "id": "c831810b",
   "metadata": {},
   "outputs": [
    {
     "name": "stdout",
     "output_type": "stream",
     "text": [
      "Original array: [1 2 3 4 5 6 7]\n",
      "Split result: [array([1, 2, 3]), array([4, 5]), array([6, 7])]\n"
     ]
    }
   ],
   "source": [
    "import numpy as np\n",
    "\n",
    "# Original array\n",
    "array = np.array([1, 2, 3, 4, 5, 6, 7])\n",
    "\n",
    "# Splitting into 3 parts\n",
    "result = np.array_split(array, 3)\n",
    "\n",
    "print(\"Original array:\", array)\n",
    "print(\"Split result:\", result)"
   ]
  },
  {
   "cell_type": "markdown",
   "id": "797d0632",
   "metadata": {},
   "source": [
    "2. Splitting with Specific indices"
   ]
  },
  {
   "cell_type": "code",
   "execution_count": 81,
   "id": "2692d045",
   "metadata": {},
   "outputs": [
    {
     "name": "stdout",
     "output_type": "stream",
     "text": [
      "Split result with indices: [array([1, 2]), array([3, 4, 5]), array([6, 7])]\n"
     ]
    }
   ],
   "source": [
    "# Splitting using indices\n",
    "result = np.array_split(array, [2, 5])\n",
    "\n",
    "print(\"Split result with indices:\", result)"
   ]
  },
  {
   "cell_type": "markdown",
   "id": "3edcb394",
   "metadata": {},
   "source": [
    "3. Splitting Along a Specific Axis"
   ]
  },
  {
   "cell_type": "code",
   "execution_count": 82,
   "id": "6cb21700",
   "metadata": {},
   "outputs": [
    {
     "name": "stdout",
     "output_type": "stream",
     "text": [
      "Original 2D array:\n",
      " [[1 2 3]\n",
      " [4 5 6]\n",
      " [7 8 9]]\n",
      "\n",
      "Split result along columns:\n",
      "[array([[1, 2],\n",
      "       [4, 5],\n",
      "       [7, 8]]), array([[3],\n",
      "       [6],\n",
      "       [9]])]\n"
     ]
    }
   ],
   "source": [
    "# 2D array\n",
    "array_2d = np.array([[1, 2, 3], \n",
    "                     [4, 5, 6], \n",
    "                     [7, 8, 9]])\n",
    "\n",
    "# Splitting into 2 parts along axis 1 (columns)\n",
    "result = np.array_split(array_2d, 2, axis=1)\n",
    "\n",
    "print(\"Original 2D array:\\n\", array_2d)\n",
    "print(\"\\nSplit result along columns:\")\n",
    "print(result)"
   ]
  },
  {
   "cell_type": "markdown",
   "id": "07e225ac",
   "metadata": {},
   "source": [
    "Handling Uneven Splits\n",
    "\n",
    ".If the total number of elements cannot be evenly divided by the number of requested splits, the leftover elements are distributed to the initial sub-arrays in the result.\n",
    "\n",
    ".This ensures the sizes of the sub-arrays differ by at most one element.\n",
    "\n",
    "Example of Uneven Splitting with 2D Array:"
   ]
  },
  {
   "cell_type": "code",
   "execution_count": 83,
   "id": "83db5c22",
   "metadata": {},
   "outputs": [
    {
     "name": "stdout",
     "output_type": "stream",
     "text": [
      "\n",
      "Split result with uneven row distribution:\n",
      "[array([[1, 2, 3]]), array([[4, 5, 6]]), array([[7, 8, 9]]), array([], shape=(0, 3), dtype=int64)]\n"
     ]
    }
   ],
   "source": [
    "# 2D array with uneven split\n",
    "result = np.array_split(array_2d, 4, axis=0)\n",
    "\n",
    "print(\"\\nSplit result with uneven row distribution:\")\n",
    "print(result)"
   ]
  },
  {
   "cell_type": "markdown",
   "id": "5482e94a",
   "metadata": {},
   "source": [
    "Key Points\n",
    "\n",
    "1. Comparison with split():\n",
    "\n",
    ".numpy.split() raises an error if the split is uneven.\n",
    "\n",
    ".numpy.array_split() handles uneven splits automatically.\n",
    "\n",
    "2. Empty Sub-Arrays:\n",
    "\n",
    ".If there are more sections than elements in the array, some sub-arrays may be empty.\n",
    "\n",
    "3. Flexibility:\n",
    "\n",
    "Allows splitting using both fixed number of parts or specific indices."
   ]
  },
  {
   "cell_type": "markdown",
   "id": "eba32d8e",
   "metadata": {},
   "source": [
    "Ans 10.\n",
    "\n",
    "Vectorization and Broadcasting in NumPy\n",
    "\n",
    "Vectorization and broadcasting are core concepts in NumPy that contribute to efficient array operations. They enable concise, readable code and take advantage of optimized low-level implementations for performance.\n",
    "\n",
    "1. Vectorization\n",
    "\n",
    "Vectorization refers to performing operations on entire arrays (or vectors) without the need for explicit loops. This is achieved by leveraging NumPy's internal implementation, which uses optimized C code to operate directly on arrays.\n",
    "\n",
    "Key Features:\n",
    "\n",
    ".Eliminates explicit loops in Python code.\n",
    "\n",
    ".Enhances performance by utilizing low-level optimizations.\n",
    "\n",
    ".Makes code more concise and readable.\n",
    "\n",
    "Example Without Vectorization:"
   ]
  },
  {
   "cell_type": "code",
   "execution_count": 84,
   "id": "ea7f64c7",
   "metadata": {},
   "outputs": [
    {
     "name": "stdout",
     "output_type": "stream",
     "text": [
      "Squared (loop): [1, 4, 9, 16, 25]\n"
     ]
    }
   ],
   "source": [
    "import numpy as np\n",
    "\n",
    "# Compute the square of each element in a list using a loop\n",
    "data = [1, 2, 3, 4, 5]\n",
    "squared = []\n",
    "for x in data:\n",
    "    squared.append(x**2)\n",
    "\n",
    "print(\"Squared (loop):\", squared)"
   ]
  },
  {
   "cell_type": "markdown",
   "id": "19425f2b",
   "metadata": {},
   "source": [
    "With Vectorization:"
   ]
  },
  {
   "cell_type": "code",
   "execution_count": 85,
   "id": "44dffae7",
   "metadata": {},
   "outputs": [
    {
     "name": "stdout",
     "output_type": "stream",
     "text": [
      "Squared (vectorized): [ 1  4  9 16 25]\n"
     ]
    }
   ],
   "source": [
    "# Using NumPy vectorized operations\n",
    "data = np.array([1, 2, 3, 4, 5])\n",
    "squared = data**2  # Element-wise squaring\n",
    "\n",
    "print(\"Squared (vectorized):\", squared)"
   ]
  },
  {
   "cell_type": "markdown",
   "id": "39395838",
   "metadata": {},
   "source": [
    "2. Broadcasting\n",
    "\n",
    "Broadcasting refers to NumPy's ability to perform arithmetic operations on arrays of different shapes by automatically expanding one of them to match the shape of the other.\n",
    "\n",
    "Key Features:\n",
    "\n",
    ".Avoids the need for manual array resizing.\n",
    "\n",
    ".Efficiently computes operations across mismatched array shapes.\n",
    "\n",
    ".Works by extending the smaller array along its missing dimensions.\n",
    "\n",
    "Rules for Broadcasting:\n",
    "\n",
    "1. If the dimensions of the arrays are unequal, NumPy aligns them by adding dimensions of size 1 to the left of the smaller array.\n",
    "\n",
    "2. If the sizes along any dimension are not the same, they must either be equal or one of them must be 1.\n",
    "\n",
    "3. The array with size 1 in a dimension is \"stretched\" to match the size of the other array along that dimension.\n",
    "\n",
    "Example of Broadcasting:"
   ]
  },
  {
   "cell_type": "code",
   "execution_count": 86,
   "id": "6023fac3",
   "metadata": {},
   "outputs": [
    {
     "name": "stdout",
     "output_type": "stream",
     "text": [
      "Broadcasting scalar addition: [6 7 8]\n"
     ]
    }
   ],
   "source": [
    "# Adding a scalar to a 1D array\n",
    "array = np.array([1, 2, 3])\n",
    "result = array + 5\n",
    "\n",
    "print(\"Broadcasting scalar addition:\", result)"
   ]
  },
  {
   "cell_type": "markdown",
   "id": "ec318aa3",
   "metadata": {},
   "source": [
    "Example with Arrays of Different Shapes: "
   ]
  },
  {
   "cell_type": "code",
   "execution_count": 87,
   "id": "7d842167",
   "metadata": {},
   "outputs": [
    {
     "name": "stdout",
     "output_type": "stream",
     "text": [
      "Broadcasting with arrays:\n",
      " [[11 22 33]\n",
      " [14 25 36]]\n"
     ]
    }
   ],
   "source": [
    "# Adding a 1D array to a 2D array\n",
    "array_2d = np.array([[1, 2, 3], [4, 5, 6]])\n",
    "array_1d = np.array([10, 20, 30])\n",
    "\n",
    "result = array_2d + array_1d\n",
    "\n",
    "print(\"Broadcasting with arrays:\\n\", result)"
   ]
  },
  {
   "cell_type": "markdown",
   "id": "d7f1722b",
   "metadata": {},
   "source": [
    "Advantages of Vectorization and Broadcasting\n",
    "\n",
    "1. Performance:\n",
    "\n",
    ".Operations are implemented in C, leading to significant speed-ups compared to Python loops.\n",
    "\n",
    "2. Code Readability:\n",
    "\n",
    ".Reduces the need for explicit loops and array manipulations.\n",
    "\n",
    "3. Memory Efficiency:\n",
    "\n",
    ".Avoids creating intermediate copies of arrays by operating directly on them."
   ]
  },
  {
   "cell_type": "markdown",
   "id": "21a995e0",
   "metadata": {},
   "source": [
    "Practical Questions:"
   ]
  },
  {
   "cell_type": "markdown",
   "id": "e3ce4ff3",
   "metadata": {},
   "source": [
    "Ans 1.\n",
    "\n",
    "Here is the 3x3 NumPy array with random integers between 1 and 100 and its transposed version (interchanged rows and columns):\n",
    "\n",
    "Original Array:\n",
    "\n",
    "[[94 56 80]\n",
    " [41 55 18]\n",
    " [34 70 49]]\n",
    "\n",
    "Transposed Array:\n",
    "\n",
    "[[94 41 34]\n",
    " [56 55 70]\n",
    " [80 18 49]]"
   ]
  },
  {
   "cell_type": "markdown",
   "id": "91856a59",
   "metadata": {},
   "source": [
    "Ans 2.\n",
    "\n",
    "Here are the results of generating a 1D NumPy array and reshaping it into different forms:\n",
    "\n",
    "1D Array (10 element):\n",
    "\n",
    "[ 1  2  3  4  5  6  7  8  9 10]\n",
    "\n",
    ".Reshaped into 2x5 Array:\n",
    "\n",
    "[[ 1  2  3  4  5]\n",
    " [ 6  7  8  9 10]]\n",
    "\n",
    "Reshaped into 5x2 Array:\n",
    "\n",
    "[[ 1  2]\n",
    " [ 3  4]\n",
    " [ 5  6]\n",
    " [ 7  8]\n",
    " [ 9 10]]"
   ]
  },
  {
   "cell_type": "markdown",
   "id": "69615bcc",
   "metadata": {},
   "source": [
    "Ans 3. \n",
    "\n",
    "Original 4x4 Array (with random float values):\n",
    "\n",
    "[[0.58827261 0.95959024 0.61980797 0.1546133 ]\n",
    " [0.99288622 0.22742135 0.8612033  0.07464458]\n",
    " [0.16041453 0.71797218 0.89055504 0.08740898]\n",
    " [0.60049334 0.10968417 0.37460467 0.82299827]]\n",
    "\n",
    "6x6 Array with a Boder of Zeros:\n",
    "\n",
    "[[0.         0.         0.         0.         0.         0.        ]\n",
    " [0.         0.58827261 0.95959024 0.61980797 0.1546133  0.        ]\n",
    " [0.         0.99288622 0.22742135 0.8612033  0.07464458 0.        ]\n",
    " [0.         0.16041453 0.71797218 0.89055504 0.08740898 0.        ]\n",
    " [0.         0.60049334 0.10968417 0.37460467 0.82299827 0.        ]\n",
    " [0.         0.         0.         0.         0.         0.        ]]"
   ]
  },
  {
   "cell_type": "markdown",
   "id": "91b168e2",
   "metadata": {},
   "source": [
    "Ans 4.\n",
    "\n",
    "You can create an array of integers from 10 to 60 with a step of 5 using NumPy's np.arange() function. Here's how you can do it:"
   ]
  },
  {
   "cell_type": "code",
   "execution_count": 88,
   "id": "68c1e988",
   "metadata": {},
   "outputs": [
    {
     "name": "stdout",
     "output_type": "stream",
     "text": [
      "[10 15 20 25 30 35 40 45 50 55 60]\n"
     ]
    }
   ],
   "source": [
    "import numpy as np\n",
    "\n",
    "array = np.arange(10, 61, 5)\n",
    "print(array)"
   ]
  },
  {
   "cell_type": "markdown",
   "id": "97ceb38d",
   "metadata": {},
   "source": [
    "Explanation:\n",
    "\n",
    "np.arange(start, stop, step) generates values starting from start (10), up to (but not including) stop (61), with a step of 5."
   ]
  },
  {
   "cell_type": "markdown",
   "id": "bd4c8288",
   "metadata": {},
   "source": [
    "Ans 5.\n",
    "\n",
    "You can create a NumPy array of strings and then apply various string transformations such as uppercase, lowercase, title case, etc., using the .vectorize() method for element-wise operations on the array. Here’s an example:"
   ]
  },
  {
   "cell_type": "code",
   "execution_count": 89,
   "id": "cbc0735f",
   "metadata": {},
   "outputs": [
    {
     "name": "stdout",
     "output_type": "stream",
     "text": [
      "Original: ['python' 'numpy' 'pandas']\n",
      "Uppercase: ['PYTHON' 'NUMPY' 'PANDAS']\n",
      "Lowercase: ['python' 'numpy' 'pandas']\n",
      "Title case: ['Python' 'Numpy' 'Pandas']\n",
      "Capitalize case: ['Python' 'Numpy' 'Pandas']\n"
     ]
    }
   ],
   "source": [
    "import numpy as np\n",
    "\n",
    "# Create the NumPy array of strings\n",
    "arr = np.array(['python', 'numpy', 'pandas'])\n",
    "\n",
    "# Apply different case transformations\n",
    "upper_case = np.char.upper(arr)  # Convert to uppercase\n",
    "lower_case = np.char.lower(arr)  # Convert to lowercase\n",
    "title_case = np.char.title(arr)  # Convert to title case\n",
    "capitalize_case = np.char.capitalize(arr)  # Capitalize the first letter of each string\n",
    "\n",
    "# Print the results\n",
    "print(\"Original:\", arr)\n",
    "print(\"Uppercase:\", upper_case)\n",
    "print(\"Lowercase:\", lower_case)\n",
    "print(\"Title case:\", title_case)\n",
    "print(\"Capitalize case:\", capitalize_case)"
   ]
  },
  {
   "cell_type": "markdown",
   "id": "6c981c8a",
   "metadata": {},
   "source": [
    "Explanation:\n",
    "\n",
    ".np.char.upper(arr) converts all characters to uppercase.\n",
    "\n",
    ".np.char.lower(arr) converts all characters to lowercase.\n",
    "\n",
    ".np.char.title(arr) capitalizes the first letter of each word (title case).\n",
    "\n",
    ".np.char.capitalize(arr) capitalizes the first letter of the entire string.\n",
    "\n",
    "These operations are applied element-wise on the NumPy array of strings.\n",
    "\n",
    "\n",
    "\n"
   ]
  },
  {
   "cell_type": "markdown",
   "id": "78c99932",
   "metadata": {},
   "source": [
    "Ans 6. \n",
    "\n",
    "You can generate a NumPy array of words and insert a space between each character of every word using the np.char.add() function. This function can be used to concatenate a space (\" \") between each character of the words in the array. Here's how you can do it:"
   ]
  },
  {
   "cell_type": "markdown",
   "id": "0238ebd8",
   "metadata": {},
   "source": [
    "Ans 7. \n",
    "\n",
    "You can perform element-wise operations like addition, subtraction, multiplication, and division on two 2D NumPy arrays using standard arithmetic operators. Here's an example that demonstrates all of these operations:"
   ]
  },
  {
   "cell_type": "code",
   "execution_count": 90,
   "id": "e467ec42",
   "metadata": {},
   "outputs": [
    {
     "name": "stdout",
     "output_type": "stream",
     "text": [
      "Array 1:\n",
      "[[1 2 3]\n",
      " [4 5 6]]\n",
      "\n",
      "Array 2:\n",
      "[[6 5 4]\n",
      " [3 2 1]]\n",
      "\n",
      "Element-wise addition:\n",
      "[[7 7 7]\n",
      " [7 7 7]]\n",
      "\n",
      "Element-wise subtraction:\n",
      "[[-5 -3 -1]\n",
      " [ 1  3  5]]\n",
      "\n",
      "Element-wise multiplication:\n",
      "[[ 6 10 12]\n",
      " [12 10  6]]\n",
      "\n",
      "Element-wise division:\n",
      "[[0.16666667 0.4        0.75      ]\n",
      " [1.33333333 2.5        6.        ]]\n"
     ]
    }
   ],
   "source": [
    "import numpy as np\n",
    "\n",
    "# Create two 2D NumPy arrays\n",
    "arr1 = np.array([[1, 2, 3], [4, 5, 6]])\n",
    "arr2 = np.array([[6, 5, 4], [3, 2, 1]])\n",
    "\n",
    "# Element-wise addition\n",
    "addition = arr1 + arr2\n",
    "\n",
    "# Element-wise subtraction\n",
    "subtraction = arr1 - arr2\n",
    "\n",
    "# Element-wise multiplication\n",
    "multiplication = arr1 * arr2\n",
    "\n",
    "# Element-wise division\n",
    "# Note: We use np.divide to handle division, which avoids division by zero errors\n",
    "division = np.divide(arr1, arr2)\n",
    "\n",
    "# Print the results\n",
    "print(\"Array 1:\")\n",
    "print(arr1)\n",
    "print(\"\\nArray 2:\")\n",
    "print(arr2)\n",
    "\n",
    "print(\"\\nElement-wise addition:\")\n",
    "print(addition)\n",
    "\n",
    "print(\"\\nElement-wise subtraction:\")\n",
    "print(subtraction)\n",
    "\n",
    "print(\"\\nElement-wise multiplication:\")\n",
    "print(multiplication)\n",
    "\n",
    "print(\"\\nElement-wise division:\")\n",
    "print(division)"
   ]
  },
  {
   "cell_type": "markdown",
   "id": "86238663",
   "metadata": {},
   "source": [
    "Ans 8.\n",
    "\n",
    "You can create a 5x5 identity matrix using NumPy's np.eye() function, and then extract its diagonal elements using the np.diagonal() method. Here's how you can do it:"
   ]
  },
  {
   "cell_type": "code",
   "execution_count": 91,
   "id": "2df79620",
   "metadata": {},
   "outputs": [
    {
     "name": "stdout",
     "output_type": "stream",
     "text": [
      "5x5 Identity Matrix:\n",
      "[[1. 0. 0. 0. 0.]\n",
      " [0. 1. 0. 0. 0.]\n",
      " [0. 0. 1. 0. 0.]\n",
      " [0. 0. 0. 1. 0.]\n",
      " [0. 0. 0. 0. 1.]]\n",
      "\n",
      "Diagonal Elements:\n",
      "[1. 1. 1. 1. 1.]\n"
     ]
    }
   ],
   "source": [
    "import numpy as np\n",
    "\n",
    "# Create a 5x5 identity matrix\n",
    "identity_matrix = np.eye(5)\n",
    "\n",
    "# Extract the diagonal elements\n",
    "diagonal_elements = identity_matrix.diagonal()\n",
    "\n",
    "# Print the results\n",
    "print(\"5x5 Identity Matrix:\")\n",
    "print(identity_matrix)\n",
    "\n",
    "print(\"\\nDiagonal Elements:\")\n",
    "print(diagonal_elements)"
   ]
  },
  {
   "cell_type": "markdown",
   "id": "24f8a75b",
   "metadata": {},
   "source": [
    "Ans 9.\n",
    "\n",
    "To generate a NumPy array of 100 random integers between 0 and 1000 and then find all the prime numbers in the array, we can follow these steps:\n",
    "\n",
    "..Generate the random integers using np.random.randint().\n",
    "\n",
    ".Check each number for primality using a helper function.\n",
    "\n",
    ".Filter and display the prime numbers.\n",
    "\n",
    "Here's the code:"
   ]
  },
  {
   "cell_type": "code",
   "execution_count": 92,
   "id": "aa59461d",
   "metadata": {},
   "outputs": [
    {
     "name": "stdout",
     "output_type": "stream",
     "text": [
      "Random integers: [935 677 300 387  80 747 644 516  67 585 725 301 548 541 436 445 547 991\n",
      "  22 982 643 323 863 880 386 225  85 491 345 122 255 972  96 498 436 241\n",
      " 497 893 168 704 948 276 496 260 291 919 166 908 695 824 276 227 332 474\n",
      " 610 194 836 970 780 309 665 732 883 255 252 307 221 822 929 235 660 400\n",
      " 329 780   5 302 848 484 474 997 845 424   0 400 461 561 959  68 167 727\n",
      " 600 404 809 946 276 192 329 340 924 776]\n",
      "\n",
      "Prime numbers: [np.int32(677), np.int32(67), np.int32(541), np.int32(547), np.int32(991), np.int32(643), np.int32(863), np.int32(491), np.int32(241), np.int32(919), np.int32(227), np.int32(883), np.int32(307), np.int32(929), np.int32(5), np.int32(997), np.int32(461), np.int32(167), np.int32(727), np.int32(809)]\n"
     ]
    }
   ],
   "source": [
    "import numpy as np\n",
    "\n",
    "# Function to check if a number is prime\n",
    "def is_prime(n):\n",
    "    if n <= 1:\n",
    "        return False\n",
    "    for i in range(2, int(np.sqrt(n)) + 1):\n",
    "        if n % i == 0:\n",
    "            return False\n",
    "    return True\n",
    "\n",
    "# Generate a NumPy array of 100 random integers between 0 and 1000\n",
    "random_integers = np.random.randint(0, 1001, size=100)\n",
    "\n",
    "# Find prime numbers in the array\n",
    "primes = [num for num in random_integers if is_prime(num)]\n",
    "\n",
    "# Display the result\n",
    "print(\"Random integers:\", random_integers)\n",
    "print(\"\\nPrime numbers:\", primes)"
   ]
  },
  {
   "cell_type": "markdown",
   "id": "2740e9e0",
   "metadata": {},
   "source": [
    "Ans 10.\n",
    "\n",
    "To create a NumPy array representing daily temperatures for a month (30 days) and calculate the weekly averages, follow these steps:\n",
    "\n",
    ".Generate a random array of temperatures for 30 days.\n",
    "\n",
    ".Reshape the array to represent 4 weeks of data (7 days per week, with 2 extra days in the last week).\n",
    "\n",
    ".Calculate the average temperature for each week.\n",
    "\n",
    "Here's the code:"
   ]
  },
  {
   "cell_type": "code",
   "execution_count": null,
   "id": "a392168c",
   "metadata": {},
   "outputs": [],
   "source": [
    "import numpy as np\n",
    "\n",
    "# Generate a NumPy array representing daily temperatures for a month (30 days)\n",
    "daily_temperatures = np.random.randint(15, 35, size=30)  # temperatures between 15 and 35 degrees Celsius\n",
    "\n",
    "# Reshape the array into 4 weeks (7 days per week, and the last week may have 2 days)\n",
    "weekly_temperatures = daily_temperatures.reshape(4, 7)\n",
    "\n",
    "# Calculate the weekly average temperature\n",
    "weekly_averages = weekly_temperatures.mean(axis=1)\n",
    "\n",
    "# Display the results\n",
    "print(\"Daily Temperatures for the Month (30 days):\")\n",
    "print(daily_temperatures)\n",
    "\n",
    "print(\"\\nWeekly Temperatures (4 weeks, 7 days each):\")\n",
    "print(weekly_temperatures)\n",
    "\n",
    "print(\"\\nWeekly Average Temperatures:\")\n",
    "print(weekly_averages)\n"
   ]
  }
 ],
 "metadata": {
  "kernelspec": {
   "display_name": "Python 3",
   "language": "python",
   "name": "python3"
  },
  "language_info": {
   "codemirror_mode": {
    "name": "ipython",
    "version": 3
   },
   "file_extension": ".py",
   "mimetype": "text/x-python",
   "name": "python",
   "nbconvert_exporter": "python",
   "pygments_lexer": "ipython3",
   "version": "3.13.0"
  }
 },
 "nbformat": 4,
 "nbformat_minor": 5
}
